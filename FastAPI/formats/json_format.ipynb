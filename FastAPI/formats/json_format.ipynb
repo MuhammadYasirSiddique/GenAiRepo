{
 "cells": [
  {
   "cell_type": "code",
   "execution_count": 1,
   "metadata": {},
   "outputs": [
    {
     "name": "stdout",
     "output_type": "stream",
     "text": [
      "Data is valid\n"
     ]
    }
   ],
   "source": [
    "import json\n",
    "from jsonschema import validate\n",
    "\n",
    "schema = {\n",
    "    \"type\": \"object\",\n",
    "    \"properties\": {\n",
    "        \"name\": {\"type\": \"string\"},\n",
    "        \"age\": {\"type\": \"integer\", \"minimum\": 12}\n",
    "    },\n",
    "    \"required\": [\"name\", \"age\"]\n",
    "}\n",
    "\n",
    "data = {\"name\": \"John Doe\", \"age\": 50}\n",
    "\n",
    "try:\n",
    "    validate(instance=data, schema=schema)\n",
    "    print(\"Data is valid\")\n",
    "except jsonschema.exceptions.ValidationError as e:\n",
    "    print(\"Data is invalid:\", e)"
   ]
  }
 ],
 "metadata": {
  "kernelspec": {
   "display_name": "python12",
   "language": "python",
   "name": "python3"
  },
  "language_info": {
   "codemirror_mode": {
    "name": "ipython",
    "version": 3
   },
   "file_extension": ".py",
   "mimetype": "text/x-python",
   "name": "python",
   "nbconvert_exporter": "python",
   "pygments_lexer": "ipython3",
   "version": "3.12.0"
  }
 },
 "nbformat": 4,
 "nbformat_minor": 2
}
