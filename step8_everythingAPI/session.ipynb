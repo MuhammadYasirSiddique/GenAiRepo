{
 "cells": [
  {
   "cell_type": "markdown",
   "metadata": {},
   "source": [
    "# Session"
   ]
  },
  {
   "cell_type": "code",
   "execution_count": 2,
   "metadata": {},
   "outputs": [],
   "source": [
    "from sqlalchemy import create_engine\n",
    "    "
   ]
  },
  {
   "cell_type": "code",
   "execution_count": 3,
   "metadata": {},
   "outputs": [
    {
     "name": "stdout",
     "output_type": "stream",
     "text": [
      "Connection Established\n"
     ]
    }
   ],
   "source": [
    "import os\n",
    "from dotenv import load_dotenv\n",
    "from sqlalchemy import create_engine\n",
    "from sqlalchemy.engine.base import Engine\n",
    "\n",
    "load_dotenv()\n",
    "NEON_DB_CONN_STR = os.getenv(\"NEON_DB_CONN_STR\")\n",
    "\n",
    "try:\n",
    "    engine: Engine = create_engine(NEON_DB_CONN_STR)\n",
    "    engine.connect()\n",
    "    print(\"Connection Established\")\n",
    "    \n",
    "\n",
    "except Exception as e:\n",
    "    # Handle the exception appropriately\n",
    "    print(f\"Error connecting to the database: {e}\")\n"
   ]
  },
  {
   "cell_type": "code",
   "execution_count": 4,
   "metadata": {},
   "outputs": [
    {
     "name": "stdout",
     "output_type": "stream",
     "text": [
      "3 Tahir 19\n",
      "4 Jafar 18\n"
     ]
    }
   ],
   "source": [
    "from sqlalchemy import text\n",
    "from sqlalchemy.orm import Session\n",
    "\n",
    "stmt = text(\"SELECT * FROM students where age < :age ORDER BY id\") \n",
    "\n",
    "with Session(engine) as session:\n",
    "        result = session.execute(stmt, {\"age\" : 20})\n",
    "        for student in result:\n",
    "            print(student.id, student.name, student.age)"
   ]
  }
 ],
 "metadata": {
  "kernelspec": {
   "display_name": "Python 3",
   "language": "python",
   "name": "python3"
  },
  "language_info": {
   "codemirror_mode": {
    "name": "ipython",
    "version": 3
   },
   "file_extension": ".py",
   "mimetype": "text/x-python",
   "name": "python",
   "nbconvert_exporter": "python",
   "pygments_lexer": "ipython3",
   "version": "3.12.1"
  }
 },
 "nbformat": 4,
 "nbformat_minor": 2
}
