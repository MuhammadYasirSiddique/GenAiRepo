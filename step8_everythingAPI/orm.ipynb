{
 "cells": [
  {
   "cell_type": "markdown",
   "metadata": {},
   "source": [
    "# ORM: One-to-many relationship\n",
    "* with SQLAlchemy"
   ]
  },
  {
   "cell_type": "code",
   "execution_count": 3,
   "metadata": {},
   "outputs": [
    {
     "name": "stdout",
     "output_type": "stream",
     "text": [
      "Requirement already satisfied: sqlalchemy in c:\\python312\\lib\\site-packages (2.0.25)\n",
      "Requirement already satisfied: typing-extensions>=4.6.0 in c:\\python312\\lib\\site-packages (from sqlalchemy) (4.9.0)\n",
      "Requirement already satisfied: greenlet!=0.4.17 in c:\\python312\\lib\\site-packages (from sqlalchemy) (3.0.3)\n",
      "Note: you may need to restart the kernel to use updated packages.\n"
     ]
    }
   ],
   "source": [
    "%pip install --upgrade sqlalchemy\n",
    "# %pip install --upgrade pip"
   ]
  },
  {
   "cell_type": "code",
   "execution_count": 1,
   "metadata": {},
   "outputs": [
    {
     "data": {
      "text/plain": [
       "'\\n\\ntable programs\\n    - id int pk\\n    - name str\\n    - years_of_study int\\n    \\n\\ntable courses\\n    - id int pk\\n    - title str\\n    - code str\\n    - program_id => fk => programs.id\\n    \\n\\n\\n\\n\\ntable students\\n    - id int pk\\n    - name str\\n    - age int\\n    - program_id => fk => programs.id\\n\\n\\n'"
      ]
     },
     "execution_count": 1,
     "metadata": {},
     "output_type": "execute_result"
    }
   ],
   "source": [
    "from sqlalchemy.orm import DeclarativeBase, Mapped, mapped_column, relationship\n",
    "from sqlalchemy import ForeignKey\n",
    "\n",
    "\"\"\"\n",
    "\n",
    "table programs\n",
    "    - id int pk\n",
    "    - name str\n",
    "    - years_of_study int\n",
    "    \n",
    "\n",
    "table courses\n",
    "    - id int pk\n",
    "    - title str\n",
    "    - code str\n",
    "    - program_id => fk => programs.id\n",
    "    \n",
    "\n",
    "\n",
    "\n",
    "\n",
    "table students\n",
    "    - id int pk\n",
    "    - name str\n",
    "    - age int\n",
    "    - program_id => fk => programs.id\n",
    "\n",
    "\n",
    "\"\"\""
   ]
  },
  {
   "cell_type": "code",
   "execution_count": 2,
   "metadata": {},
   "outputs": [],
   "source": [
    "class Base(DeclarativeBase):\n",
    "    pass\n",
    "\n"
   ]
  },
  {
   "cell_type": "code",
   "execution_count": 3,
   "metadata": {},
   "outputs": [],
   "source": [
    "\n",
    "class Program(Base):\n",
    "    __tablename__ = 'programs'\n",
    "    id:Mapped[int] = mapped_column(primary_key=True)\n",
    "    name:Mapped[str] = mapped_column(nullable=False)\n",
    "    years_of_study:Mapped[int] = mapped_column(nullable=False)\n",
    "    courses:Mapped[list['Course']] = relationship(backref='program',passive_deletes=True)\n",
    "    students:Mapped[list['Student']] = relationship(backref='program',passive_deletes=True)\n",
    "\n",
    "    def __repr__(self) -> str:\n",
    "        return f\"<Program {self.name}>\"\n",
    "    \n"
   ]
  },
  {
   "cell_type": "code",
   "execution_count": 4,
   "metadata": {},
   "outputs": [],
   "source": [
    "class Student(Base):\n",
    "    __tablename__ = 'students'\n",
    "    id:Mapped[int] = mapped_column(primary_key=True)\n",
    "    name:Mapped[str] = mapped_column(nullable=False)\n",
    "    age:Mapped[int] = mapped_column(nullable=False)\n",
    "    program_id:Mapped[int] = mapped_column(ForeignKey('programs.id',ondelete='CASCADE'))\n",
    "    \n",
    "\n",
    "    def __repr__(self) -> str:\n",
    "        return f\"<Student {self.name}>\"\n",
    "    \n",
    "    \n"
   ]
  },
  {
   "cell_type": "code",
   "execution_count": 5,
   "metadata": {},
   "outputs": [],
   "source": [
    "class Course(Base):\n",
    "    __tablename__ = 'courses'\n",
    "    id:Mapped[int] = mapped_column(primary_key=True)\n",
    "    title:Mapped[str] = mapped_column(nullable=False, unique=True)\n",
    "    code:Mapped[str] = mapped_column(nullable=False)\n",
    "    program_id:Mapped[int] = mapped_column(ForeignKey('programs.id',ondelete='CASCADE'))\n",
    "    \n",
    "    \n",
    "    def __repr__(self) -> str:\n",
    "        return f\"<Course {self.title}>\""
   ]
  },
  {
   "cell_type": "code",
   "execution_count": 6,
   "metadata": {},
   "outputs": [
    {
     "name": "stdout",
     "output_type": "stream",
     "text": [
      "2024-02-02 00:27:21,973 INFO sqlalchemy.engine.Engine select pg_catalog.version()\n",
      "2024-02-02 00:27:21,975 INFO sqlalchemy.engine.Engine [raw sql] {}\n",
      "2024-02-02 00:27:22,527 INFO sqlalchemy.engine.Engine select current_schema()\n",
      "2024-02-02 00:27:22,528 INFO sqlalchemy.engine.Engine [raw sql] {}\n",
      "2024-02-02 00:27:23,160 INFO sqlalchemy.engine.Engine show standard_conforming_strings\n",
      "2024-02-02 00:27:23,161 INFO sqlalchemy.engine.Engine [raw sql] {}\n",
      "2024-02-02 00:27:23,796 INFO sqlalchemy.engine.Engine BEGIN (implicit)\n",
      "2024-02-02 00:27:23,893 INFO sqlalchemy.engine.Engine SELECT pg_catalog.pg_class.relname \n",
      "FROM pg_catalog.pg_class JOIN pg_catalog.pg_namespace ON pg_catalog.pg_namespace.oid = pg_catalog.pg_class.relnamespace \n",
      "WHERE pg_catalog.pg_class.relname = %(table_name)s AND pg_catalog.pg_class.relkind = ANY (ARRAY[%(param_1)s, %(param_2)s, %(param_3)s, %(param_4)s, %(param_5)s]) AND pg_catalog.pg_table_is_visible(pg_catalog.pg_class.oid) AND pg_catalog.pg_namespace.nspname != %(nspname_1)s\n",
      "2024-02-02 00:27:23,894 INFO sqlalchemy.engine.Engine [generated in 0.00137s] {'table_name': 'programs', 'param_1': 'r', 'param_2': 'p', 'param_3': 'f', 'param_4': 'v', 'param_5': 'm', 'nspname_1': 'pg_catalog'}\n",
      "2024-02-02 00:27:24,669 INFO sqlalchemy.engine.Engine SELECT pg_catalog.pg_class.relname \n",
      "FROM pg_catalog.pg_class JOIN pg_catalog.pg_namespace ON pg_catalog.pg_namespace.oid = pg_catalog.pg_class.relnamespace \n",
      "WHERE pg_catalog.pg_class.relname = %(table_name)s AND pg_catalog.pg_class.relkind = ANY (ARRAY[%(param_1)s, %(param_2)s, %(param_3)s, %(param_4)s, %(param_5)s]) AND pg_catalog.pg_table_is_visible(pg_catalog.pg_class.oid) AND pg_catalog.pg_namespace.nspname != %(nspname_1)s\n",
      "2024-02-02 00:27:24,671 INFO sqlalchemy.engine.Engine [cached since 0.7779s ago] {'table_name': 'students', 'param_1': 'r', 'param_2': 'p', 'param_3': 'f', 'param_4': 'v', 'param_5': 'm', 'nspname_1': 'pg_catalog'}\n",
      "2024-02-02 00:27:25,044 INFO sqlalchemy.engine.Engine SELECT pg_catalog.pg_class.relname \n",
      "FROM pg_catalog.pg_class JOIN pg_catalog.pg_namespace ON pg_catalog.pg_namespace.oid = pg_catalog.pg_class.relnamespace \n",
      "WHERE pg_catalog.pg_class.relname = %(table_name)s AND pg_catalog.pg_class.relkind = ANY (ARRAY[%(param_1)s, %(param_2)s, %(param_3)s, %(param_4)s, %(param_5)s]) AND pg_catalog.pg_table_is_visible(pg_catalog.pg_class.oid) AND pg_catalog.pg_namespace.nspname != %(nspname_1)s\n",
      "2024-02-02 00:27:25,044 INFO sqlalchemy.engine.Engine [cached since 1.151s ago] {'table_name': 'courses', 'param_1': 'r', 'param_2': 'p', 'param_3': 'f', 'param_4': 'v', 'param_5': 'm', 'nspname_1': 'pg_catalog'}\n",
      "2024-02-02 00:27:25,317 INFO sqlalchemy.engine.Engine COMMIT\n",
      "Connection Established\n"
     ]
    }
   ],
   "source": [
    "from sqlalchemy import create_engine, text\n",
    "from sqlalchemy.orm import sessionmaker\n",
    "from sqlalchemy.engine.base import Engine\n",
    "from sqlalchemy.orm.session import Session\n",
    "import os\n",
    "from dotenv import load_dotenv\n",
    "\n",
    "load_dotenv()\n",
    "NEON_DB_CONN_STR = os.getenv(\"NEON_DB_CONN_STR\")\n",
    "\n",
    "try:\n",
    "    engine: Engine = create_engine(NEON_DB_CONN_STR, echo= True)\n",
    "    Session = sessionmaker(bind=engine)\n",
    "    db: Session = Session()\n",
    "    Base.metadata.create_all(bind=engine)\n",
    "\n",
    "\n",
    "    engine.connect()\n",
    "    print(\"Connection Established\")\n",
    "\n",
    "except Exception as e:\n",
    "        print(f\"Error connecting to the database: {e}\")\n",
    "\n"
   ]
  },
  {
   "cell_type": "code",
   "execution_count": 8,
   "metadata": {},
   "outputs": [
    {
     "name": "stdout",
     "output_type": "stream",
     "text": [
      "2024-01-28 18:50:25,428 INFO sqlalchemy.engine.Engine BEGIN (implicit)\n",
      "2024-01-28 18:50:25,434 INFO sqlalchemy.engine.Engine INSERT INTO programs (name, years_of_study) SELECT p0::VARCHAR, p1::INTEGER FROM (VALUES (%(name__0)s, %(years_of_study__0)s, 0), (%(name__1)s, %(years_of_study__1)s, 1)) AS imp_sen(p0, p1, sen_counter) ORDER BY sen_counter RETURNING programs.id, programs.id AS id__1\n",
      "2024-01-28 18:50:25,435 INFO sqlalchemy.engine.Engine [generated in 0.00012s (insertmanyvalues) 1/1 (ordered)] {'years_of_study__0': 3, 'name__0': 'Bachelors in CS', 'years_of_study__1': 3, 'name__1': 'Bachelors in Business'}\n",
      "2024-01-28 18:50:26,746 INFO sqlalchemy.engine.Engine COMMIT\n"
     ]
    }
   ],
   "source": [
    "program1 = Program(\n",
    "    name = \"Bachelors in CS\",\n",
    "    years_of_study =3\n",
    ")\n",
    "\n",
    "program2 = Program(\n",
    "    name = \"Bachelors in Business\",\n",
    "    years_of_study =3\n",
    ")\n",
    "\n",
    "# saving programs\n",
    "db.add_all(\n",
    "    [program1,program2]\n",
    ")\n",
    "\n",
    "db.commit()"
   ]
  },
  {
   "cell_type": "code",
   "execution_count": 9,
   "metadata": {},
   "outputs": [
    {
     "name": "stdout",
     "output_type": "stream",
     "text": [
      "2024-01-28 18:50:30,540 INFO sqlalchemy.engine.Engine BEGIN (implicit)\n",
      "2024-01-28 18:50:30,542 INFO sqlalchemy.engine.Engine INSERT INTO programs (name, years_of_study) SELECT p0::VARCHAR, p1::INTEGER FROM (VALUES (%(name__0)s, %(years_of_study__0)s, 0), (%(name__1)s, %(years_of_study__1)s, 1)) AS imp_sen(p0, p1, sen_counter) ORDER BY sen_counter RETURNING programs.id, programs.id AS id__1\n",
      "2024-01-28 18:50:30,543 INFO sqlalchemy.engine.Engine [cached since 5.109s ago (insertmanyvalues) 1/1 (ordered)] {'years_of_study__0': 1, 'name__0': 'Web3.0 Metaverse', 'years_of_study__1': 1, 'name__1': 'Gnerative AI'}\n",
      "2024-01-28 18:50:31,103 INFO sqlalchemy.engine.Engine COMMIT\n"
     ]
    }
   ],
   "source": [
    "program3 = Program(\n",
    "    name = \"Web3.0 Metaverse\",\n",
    "    years_of_study =1\n",
    ")\n",
    "\n",
    "program4 = Program(\n",
    "    name = \"Gnerative AI\",\n",
    "    years_of_study =1\n",
    ")\n",
    "\n",
    "# saving programs\n",
    "db.add_all(\n",
    "    [program3,program4]\n",
    ")\n",
    "\n",
    "db.commit()"
   ]
  },
  {
   "cell_type": "code",
   "execution_count": 10,
   "metadata": {},
   "outputs": [
    {
     "name": "stdout",
     "output_type": "stream",
     "text": [
      "2024-01-28 18:50:33,589 INFO sqlalchemy.engine.Engine BEGIN (implicit)\n",
      "2024-01-28 18:50:33,593 INFO sqlalchemy.engine.Engine SELECT programs.id AS programs_id, programs.name AS programs_name, programs.years_of_study AS programs_years_of_study \n",
      "FROM programs \n",
      "WHERE programs.id = %(pk_1)s\n",
      "2024-01-28 18:50:33,594 INFO sqlalchemy.engine.Engine [generated in 0.00127s] {'pk_1': 23}\n",
      "2024-01-28 18:50:34,153 INFO sqlalchemy.engine.Engine SELECT courses.id AS courses_id, courses.title AS courses_title, courses.code AS courses_code, courses.program_id AS courses_program_id \n",
      "FROM courses \n",
      "WHERE %(param_1)s = courses.program_id\n",
      "2024-01-28 18:50:34,154 INFO sqlalchemy.engine.Engine [generated in 0.00054s] {'param_1': 23}\n",
      "2024-01-28 18:50:34,553 INFO sqlalchemy.engine.Engine INSERT INTO courses (title, code, program_id) SELECT p0::VARCHAR, p1::VARCHAR, p2::INTEGER FROM (VALUES (%(title__0)s, %(code__0)s, %(program_id__0)s, 0), (%(title__1)s, %(code__1)s, %(program_id__1)s, 1), (%(title__2)s, %(code__2)s, %(program_id__2)s, 2)) AS imp_sen(p0, p1, p2, sen_counter) ORDER BY sen_counter RETURNING courses.id, courses.id AS id__1\n",
      "2024-01-28 18:50:34,554 INFO sqlalchemy.engine.Engine [generated in 0.00006s (insertmanyvalues) 1/1 (ordered)] {'program_id__0': 23, 'title__0': 'Database Management Systems', 'code__0': 'CS 102', 'program_id__1': 23, 'title__1': 'Data SCIENCE', 'code__1': 'CS 103', 'program_id__2': 23, 'title__2': 'Data STRUCTURES AND ALGRITHMS', 'code__2': 'CS 110'}\n",
      "2024-01-28 18:50:34,997 INFO sqlalchemy.engine.Engine SELECT programs.id AS programs_id, programs.name AS programs_name, programs.years_of_study AS programs_years_of_study \n",
      "FROM programs \n",
      "WHERE programs.id = %(pk_1)s\n",
      "2024-01-28 18:50:34,998 INFO sqlalchemy.engine.Engine [cached since 1.405s ago] {'pk_1': 24}\n",
      "2024-01-28 18:50:35,278 INFO sqlalchemy.engine.Engine SELECT courses.id AS courses_id, courses.title AS courses_title, courses.code AS courses_code, courses.program_id AS courses_program_id \n",
      "FROM courses \n",
      "WHERE %(param_1)s = courses.program_id\n",
      "2024-01-28 18:50:35,280 INFO sqlalchemy.engine.Engine [cached since 1.127s ago] {'param_1': 24}\n",
      "2024-01-28 18:50:36,124 INFO sqlalchemy.engine.Engine INSERT INTO courses (title, code, program_id) VALUES (%(title)s, %(code)s, %(program_id)s) RETURNING courses.id\n",
      "2024-01-28 18:50:36,125 INFO sqlalchemy.engine.Engine [generated in 0.00076s] {'title': 'Businnes communication', 'code': 'BS 123', 'program_id': 24}\n",
      "2024-01-28 18:50:36,406 INFO sqlalchemy.engine.Engine COMMIT\n"
     ]
    }
   ],
   "source": [
    "#create course objects\n",
    "course1 = Course(\n",
    "    title =\"Database Management Systems\",\n",
    "    code = \"CS 102\"\n",
    ")\n",
    "\n",
    "\n",
    "course2 = Course(\n",
    "    title =\"Data SCIENCE\",\n",
    "    code = \"CS 103\"\n",
    ")\n",
    "\n",
    "\n",
    "course3 = Course(\n",
    "    title =\"Data STRUCTURES AND ALGRITHMS\",\n",
    "    code = \"CS 110\"\n",
    ")\n",
    "\n",
    "course4 = Course(\n",
    "    title =\"Businnes communication\",\n",
    "    code = \"BS 123\"\n",
    ")\n",
    "\n",
    "\n",
    "# adding child object to parent\n",
    "program1.courses.append(course1)\n",
    "program1.courses.append(course2)\n",
    "program1.courses.append(course3)\n",
    "\n",
    "program2.courses.append(course4)\n",
    "\n",
    "db.commit()\n",
    "\n",
    "\n"
   ]
  },
  {
   "cell_type": "code",
   "execution_count": 11,
   "metadata": {},
   "outputs": [
    {
     "name": "stdout",
     "output_type": "stream",
     "text": [
      "2024-01-28 18:50:43,434 INFO sqlalchemy.engine.Engine BEGIN (implicit)\n",
      "2024-01-28 18:50:43,436 INFO sqlalchemy.engine.Engine SELECT programs.id AS programs_id, programs.name AS programs_name, programs.years_of_study AS programs_years_of_study \n",
      "FROM programs \n",
      "WHERE programs.id = %(pk_1)s\n",
      "2024-01-28 18:50:43,438 INFO sqlalchemy.engine.Engine [cached since 9.845s ago] {'pk_1': 25}\n",
      "2024-01-28 18:50:43,996 INFO sqlalchemy.engine.Engine SELECT courses.id AS courses_id, courses.title AS courses_title, courses.code AS courses_code, courses.program_id AS courses_program_id \n",
      "FROM courses \n",
      "WHERE %(param_1)s = courses.program_id\n",
      "2024-01-28 18:50:43,997 INFO sqlalchemy.engine.Engine [cached since 9.843s ago] {'param_1': 25}\n",
      "2024-01-28 18:50:44,313 INFO sqlalchemy.engine.Engine INSERT INTO courses (title, code, program_id) SELECT p0::VARCHAR, p1::VARCHAR, p2::INTEGER FROM (VALUES (%(title__0)s, %(code__0)s, %(program_id__0)s, 0), (%(title__1)s, %(code__1)s, %(program_id__1)s, 1)) AS imp_sen(p0, p1, p2, sen_counter) ORDER BY sen_counter RETURNING courses.id, courses.id AS id__1\n",
      "2024-01-28 18:50:44,313 INFO sqlalchemy.engine.Engine [cached since 9.76s ago (insertmanyvalues) 1/1 (ordered)] {'program_id__0': 25, 'title__0': 'Blockchain', 'code__0': 'BC 110', 'program_id__1': 25, 'title__1': 'Internet of Things', 'code__1': 'IT 120'}\n",
      "2024-01-28 18:50:44,593 INFO sqlalchemy.engine.Engine SELECT programs.id AS programs_id, programs.name AS programs_name, programs.years_of_study AS programs_years_of_study \n",
      "FROM programs \n",
      "WHERE programs.id = %(pk_1)s\n",
      "2024-01-28 18:50:44,594 INFO sqlalchemy.engine.Engine [cached since 11s ago] {'pk_1': 26}\n",
      "2024-01-28 18:50:44,872 INFO sqlalchemy.engine.Engine SELECT courses.id AS courses_id, courses.title AS courses_title, courses.code AS courses_code, courses.program_id AS courses_program_id \n",
      "FROM courses \n",
      "WHERE %(param_1)s = courses.program_id\n",
      "2024-01-28 18:50:44,873 INFO sqlalchemy.engine.Engine [cached since 10.72s ago] {'param_1': 26}\n",
      "2024-01-28 18:50:45,153 INFO sqlalchemy.engine.Engine INSERT INTO courses (title, code, program_id) SELECT p0::VARCHAR, p1::VARCHAR, p2::INTEGER FROM (VALUES (%(title__0)s, %(code__0)s, %(program_id__0)s, 0), (%(title__1)s, %(code__1)s, %(program_id__1)s, 1)) AS imp_sen(p0, p1, p2, sen_counter) ORDER BY sen_counter RETURNING courses.id, courses.id AS id__1\n",
      "2024-01-28 18:50:45,154 INFO sqlalchemy.engine.Engine [cached since 10.6s ago (insertmanyvalues) 1/1 (ordered)] {'program_id__0': 26, 'title__0': 'Metaverse', 'code__0': 'MT 130', 'program_id__1': 26, 'title__1': 'OpenAI API', 'code__1': 'AI 140'}\n",
      "2024-01-28 18:50:45,433 INFO sqlalchemy.engine.Engine COMMIT\n"
     ]
    }
   ],
   "source": [
    "#create course objects\n",
    "course5 = Course(\n",
    "    title =\"Blockchain\",\n",
    "    code = \"BC 110\"\n",
    ")\n",
    "\n",
    "\n",
    "course6 = Course(\n",
    "    title =\"Internet of Things\",\n",
    "    code = \"IT 120\"\n",
    ")\n",
    "\n",
    "\n",
    "course7 = Course(\n",
    "    title =\"Metaverse\",\n",
    "    code = \"MT 130\"\n",
    ")\n",
    "\n",
    "course8 = Course(\n",
    "    title =\"OpenAI API\",\n",
    "    code = \"AI 140\"\n",
    ")\n",
    "\n",
    "\n",
    "# adding child object to parent\n",
    "program3.courses.append(course5)\n",
    "program3.courses.append(course6)\n",
    "\n",
    "program4.courses.append(course7)\n",
    "program4.courses.append(course8)\n",
    "\n",
    "db.commit()\n",
    "\n",
    "\n"
   ]
  },
  {
   "cell_type": "code",
   "execution_count": 12,
   "metadata": {},
   "outputs": [
    {
     "name": "stdout",
     "output_type": "stream",
     "text": [
      "2024-01-28 18:50:49,373 INFO sqlalchemy.engine.Engine BEGIN (implicit)\n",
      "2024-01-28 18:50:49,375 INFO sqlalchemy.engine.Engine SELECT programs.id AS programs_id, programs.name AS programs_name, programs.years_of_study AS programs_years_of_study \n",
      "FROM programs \n",
      "WHERE programs.id = %(pk_1)s\n",
      "2024-01-28 18:50:49,377 INFO sqlalchemy.engine.Engine [cached since 15.78s ago] {'pk_1': 23}\n",
      "2024-01-28 18:50:49,936 INFO sqlalchemy.engine.Engine SELECT students.id AS students_id, students.name AS students_name, students.age AS students_age, students.program_id AS students_program_id \n",
      "FROM students \n",
      "WHERE %(param_1)s = students.program_id\n",
      "2024-01-28 18:50:49,936 INFO sqlalchemy.engine.Engine [generated in 0.00065s] {'param_1': 23}\n",
      "2024-01-28 18:50:50,219 INFO sqlalchemy.engine.Engine INSERT INTO students (id, name, age, program_id) VALUES (%(id__0)s, %(name__0)s, %(age__0)s, %(program_id__0)s), (%(id__1)s, %(name__1)s, %(age__1)s, %(program_id__1)s)\n",
      "2024-01-28 18:50:50,220 INFO sqlalchemy.engine.Engine [generated in 0.00004s (insertmanyvalues) 1/1 (unordered)] {'id__0': 1, 'name__0': 'Yasir', 'program_id__0': 23, 'age__0': 25, 'id__1': 2, 'name__1': 'Nasir', 'program_id__1': 23, 'age__1': 28}\n",
      "2024-01-28 18:50:52,522 INFO sqlalchemy.engine.Engine SELECT programs.id AS programs_id, programs.name AS programs_name, programs.years_of_study AS programs_years_of_study \n",
      "FROM programs \n",
      "WHERE programs.id = %(pk_1)s\n",
      "2024-01-28 18:50:52,523 INFO sqlalchemy.engine.Engine [cached since 18.93s ago] {'pk_1': 25}\n",
      "2024-01-28 18:50:53,007 INFO sqlalchemy.engine.Engine SELECT students.id AS students_id, students.name AS students_name, students.age AS students_age, students.program_id AS students_program_id \n",
      "FROM students \n",
      "WHERE %(param_1)s = students.program_id\n",
      "2024-01-28 18:50:53,008 INFO sqlalchemy.engine.Engine [cached since 3.072s ago] {'param_1': 25}\n",
      "2024-01-28 18:50:53,477 INFO sqlalchemy.engine.Engine INSERT INTO students (id, name, age, program_id) VALUES (%(id)s, %(name)s, %(age)s, %(program_id)s)\n",
      "2024-01-28 18:50:53,478 INFO sqlalchemy.engine.Engine [generated in 0.00126s] {'id': 3, 'name': 'Tahir', 'age': 19, 'program_id': 25}\n",
      "2024-01-28 18:50:53,775 INFO sqlalchemy.engine.Engine SELECT programs.id AS programs_id, programs.name AS programs_name, programs.years_of_study AS programs_years_of_study \n",
      "FROM programs \n",
      "WHERE programs.id = %(pk_1)s\n",
      "2024-01-28 18:50:53,776 INFO sqlalchemy.engine.Engine [cached since 20.18s ago] {'pk_1': 26}\n",
      "2024-01-28 18:50:54,080 INFO sqlalchemy.engine.Engine SELECT students.id AS students_id, students.name AS students_name, students.age AS students_age, students.program_id AS students_program_id \n",
      "FROM students \n",
      "WHERE %(param_1)s = students.program_id\n",
      "2024-01-28 18:50:54,082 INFO sqlalchemy.engine.Engine [cached since 4.147s ago] {'param_1': 26}\n",
      "2024-01-28 18:50:54,366 INFO sqlalchemy.engine.Engine INSERT INTO students (id, name, age, program_id) VALUES (%(id)s, %(name)s, %(age)s, %(program_id)s)\n",
      "2024-01-28 18:50:54,368 INFO sqlalchemy.engine.Engine [cached since 0.8917s ago] {'id': 4, 'name': 'Jafar', 'age': 18, 'program_id': 26}\n",
      "2024-01-28 18:50:54,649 INFO sqlalchemy.engine.Engine COMMIT\n"
     ]
    }
   ],
   "source": [
    "#create course objects\n",
    "student1 = Student(\n",
    "    id = 1,\n",
    "    name =\"Yasir\",\n",
    "    age = 25\n",
    ")\n",
    "\n",
    "student2 = Student(\n",
    "    id = 2,\n",
    "    name =\"Nasir\",\n",
    "    age = 28\n",
    ")\n",
    "\n",
    "student3 = Student(\n",
    "    id = 3,\n",
    "    name =\"Tahir\",\n",
    "    age = 19\n",
    ")\n",
    "\n",
    "student4 = Student(\n",
    "    id = 4,\n",
    "    name =\"Jafar\",\n",
    "    age = 18\n",
    ")\n",
    "\n",
    "\n",
    "\n",
    "# adding child object to parent\n",
    "program1.students.append(student1)\n",
    "program1.students.append(student2)\n",
    "\n",
    "program3.students.append(student3) \n",
    "program4.students.append(student4)\n",
    "\n",
    "db.commit()\n",
    "\n",
    "\n"
   ]
  },
  {
   "cell_type": "code",
   "execution_count": 36,
   "metadata": {},
   "outputs": [
    {
     "name": "stdout",
     "output_type": "stream",
     "text": [
      "2024-01-28 19:16:01,990 INFO sqlalchemy.engine.Engine SELECT programs.id AS programs_id, programs.name AS programs_name, programs.years_of_study AS programs_years_of_study \n",
      "FROM programs \n",
      "WHERE programs.name = %(name_1)s \n",
      " LIMIT %(param_1)s\n",
      "2024-01-28 19:16:01,991 INFO sqlalchemy.engine.Engine [cached since 117.6s ago] {'name_1': 'Gnerative AI', 'param_1': 1}\n"
     ]
    },
    {
     "name": "stdout",
     "output_type": "stream",
     "text": [
      "Gnerative AI\n",
      "2024-01-28 19:16:02,261 INFO sqlalchemy.engine.Engine SELECT courses.id AS courses_id, courses.title AS courses_title, courses.code AS courses_code, courses.program_id AS courses_program_id \n",
      "FROM courses \n",
      "WHERE courses.title = %(title_1)s \n",
      " LIMIT %(param_1)s\n",
      "2024-01-28 19:16:02,263 INFO sqlalchemy.engine.Engine [generated in 0.00137s] {'title_1': 'Metaverse', 'param_1': 1}\n",
      "Metaverse\n"
     ]
    }
   ],
   "source": [
    "myprogram1: Program = db.query(Program).filter_by(name ='Gnerative AI').first()\n",
    "print(myprogram1.name)\n",
    "\n",
    "mycourse: Course = db.query(Course).filter_by(title='Metaverse').first()\n",
    "print(mycourse.title)"
   ]
  },
  {
   "cell_type": "code",
   "execution_count": 37,
   "metadata": {},
   "outputs": [
    {
     "name": "stdout",
     "output_type": "stream",
     "text": [
      "2024-01-28 19:16:23,580 INFO sqlalchemy.engine.Engine DELETE FROM programs WHERE programs.id = %(id)s\n",
      "2024-01-28 19:16:23,581 INFO sqlalchemy.engine.Engine [generated in 0.00115s] {'id': 26}\n",
      "2024-01-28 19:16:23,945 INFO sqlalchemy.engine.Engine COMMIT\n"
     ]
    }
   ],
   "source": [
    "db.delete(myprogram1)\n",
    "\n",
    "db.commit()"
   ]
  },
  {
   "cell_type": "code",
   "execution_count": null,
   "metadata": {},
   "outputs": [],
   "source": [
    "from sqlalchemy import select\n",
    "\n",
    "user_name_input = input(\"Enter the user's name: \")\n",
    "\n",
    "stmt = db.query(Student).filter_by(name = user_name_input ).first()\n",
    "\n",
    "print(stmt.name)\n",
    "\n"
   ]
  },
  {
   "cell_type": "code",
   "execution_count": null,
   "metadata": {},
   "outputs": [],
   "source": []
  }
 ],
 "metadata": {
  "kernelspec": {
   "display_name": "Python 3",
   "language": "python",
   "name": "python3"
  },
  "language_info": {
   "codemirror_mode": {
    "name": "ipython",
    "version": 3
   },
   "file_extension": ".py",
   "mimetype": "text/x-python",
   "name": "python",
   "nbconvert_exporter": "python",
   "pygments_lexer": "ipython3",
   "version": "3.12.1"
  }
 },
 "nbformat": 4,
 "nbformat_minor": 2
}
